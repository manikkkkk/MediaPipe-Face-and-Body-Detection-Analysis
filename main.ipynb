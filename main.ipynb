{
 "cells": [
  {
   "cell_type": "markdown",
   "id": "b4ac816d",
   "metadata": {},
   "source": [
    "# Face and Body Detection using MediaPipe and OpenCV\n",
    "# Author: [Your Name]\n",
    "# Date: [Today’s Date]\n",
    "\n",
    "# ===============================================\n",
    "# 📌 Importing required libraries\n",
    "# ===============================================\n"
   ]
  },
  {
   "cell_type": "code",
   "execution_count": 1,
   "id": "a37607b3",
   "metadata": {},
   "outputs": [
    {
     "ename": "ModuleNotFoundError",
     "evalue": "No module named 'cv2'",
     "output_type": "error",
     "traceback": [
      "\u001b[1;31m---------------------------------------------------------------------------\u001b[0m",
      "\u001b[1;31mModuleNotFoundError\u001b[0m                       Traceback (most recent call last)",
      "Cell \u001b[1;32mIn[1], line 1\u001b[0m\n\u001b[1;32m----> 1\u001b[0m \u001b[38;5;28;01mimport\u001b[39;00m\u001b[38;5;250m \u001b[39m\u001b[38;5;21;01mcv2\u001b[39;00m\n\u001b[0;32m      2\u001b[0m \u001b[38;5;28;01mimport\u001b[39;00m\u001b[38;5;250m \u001b[39m\u001b[38;5;21;01mmediapipe\u001b[39;00m\u001b[38;5;250m \u001b[39m\u001b[38;5;28;01mas\u001b[39;00m\u001b[38;5;250m \u001b[39m\u001b[38;5;21;01mmp\u001b[39;00m\n\u001b[0;32m      3\u001b[0m \u001b[38;5;28;01mimport\u001b[39;00m\u001b[38;5;250m \u001b[39m\u001b[38;5;21;01mnumpy\u001b[39;00m\u001b[38;5;250m \u001b[39m\u001b[38;5;28;01mas\u001b[39;00m\u001b[38;5;250m \u001b[39m\u001b[38;5;21;01mnp\u001b[39;00m\n",
      "\u001b[1;31mModuleNotFoundError\u001b[0m: No module named 'cv2'"
     ]
    }
   ],
   "source": [
    "import cv2\n",
    "import mediapipe as mp\n",
    "import numpy as np\n"
   ]
  },
  {
   "cell_type": "markdown",
   "id": "74c98e2c",
   "metadata": {},
   "source": [
    "# ===============================================\n",
    "# 📌 Creating MediaPipeDetector class\n",
    "# ===============================================\n"
   ]
  },
  {
   "cell_type": "code",
   "execution_count": null,
   "id": "e5180d0b",
   "metadata": {},
   "outputs": [],
   "source": [
    "class MediaPipeDetector:\n",
    "    def __init__(self):\n",
    "        # Initialize MediaPipe solutions\n",
    "        self.mp_face_detection = mp.solutions.face_detection\n",
    "        self.face_detection = self.mp_face_detection.FaceDetection(min_detection_confidence=0.5)\n",
    "        \n",
    "        self.mp_pose = mp.solutions.pose\n",
    "        self.pose = self.mp_pose.Pose(min_detection_confidence=0.5)\n",
    "        \n",
    "        self.mp_drawing = mp.solutions.drawing_utils\n",
    "    \n",
    "    def detect_faces(self, frame):\n",
    "        rgb_frame = cv2.cvtColor(frame, cv2.COLOR_BGR2RGB)\n",
    "        results = self.face_detection.process(rgb_frame)\n",
    "        \n",
    "        faces = []\n",
    "        if results.detections:\n",
    "            for detection in results.detections:\n",
    "                bboxC = detection.location_data.relative_bounding_box\n",
    "                ih, iw, _ = frame.shape\n",
    "                x = int(bboxC.xmin * iw)\n",
    "                y = int(bboxC.ymin * ih)\n",
    "                w = int(bboxC.width * iw)\n",
    "                h = int(bboxC.height * ih)\n",
    "                faces.append((x, y, w, h))\n",
    "        \n",
    "        return faces\n",
    "    \n",
    "    def detect_bodies(self, frame):\n",
    "        rgb_frame = cv2.cvtColor(frame, cv2.COLOR_BGR2RGB)\n",
    "        results = self.pose.process(rgb_frame)\n",
    "        \n",
    "        bodies = []\n",
    "        if results.pose_landmarks:\n",
    "            # Get bounding box around all pose landmarks\n",
    "            landmarks = results.pose_landmarks.landmark\n",
    "            xs = [landmark.x for landmark in landmarks]\n",
    "            ys = [landmark.y for landmark in landmarks]\n",
    "            \n",
    "            x_min, x_max = min(xs), max(xs)\n",
    "            y_min, y_max = min(ys), max(ys)\n",
    "            \n",
    "            ih, iw, _ = frame.shape\n",
    "            x = int(x_min * iw)\n",
    "            y = int(y_min * ih)\n",
    "            w = int((x_max - x_min) * iw)\n",
    "            h = int((y_max - y_min) * ih)\n",
    "            \n",
    "            bodies.append((x, y, w, h))\n",
    "        \n",
    "        return bodies\n",
    "    \n",
    "    def draw_detections(self, frame, faces, bodies):\n",
    "        # Draw face detections\n",
    "        for (x, y, w, h) in faces:\n",
    "            cv2.rectangle(frame, (x, y), (x+w, y+h), (255, 0, 0), 2)\n",
    "            cv2.putText(frame, 'Face', (x, y-10), cv2.FONT_HERSHEY_SIMPLEX, 0.5, (255, 0, 0), 2)\n",
    "        \n",
    "        # Draw body detections\n",
    "        for (x, y, w, h) in bodies:\n",
    "            cv2.rectangle(frame, (x, y), (x+w, y+h), (0, 255, 0), 2)\n",
    "            cv2.putText(frame, 'Body', (x, y-10), cv2.FONT_HERSHEY_SIMPLEX, 0.5, (0, 255, 0), 2)\n",
    "        \n",
    "        return frame\n"
   ]
  },
  {
   "cell_type": "markdown",
   "id": "c67b77ba",
   "metadata": {},
   "source": [
    " 📌 Running detection on webcam\n",
    "\n"
   ]
  },
  {
   "cell_type": "code",
   "execution_count": null,
   "id": "6e068773",
   "metadata": {},
   "outputs": [],
   "source": [
    "# Create detector instance\n",
    "detector = MediaPipeDetector()\n",
    "\n",
    "# Initialize webcam\n",
    "cap = cv2.VideoCapture(0)\n",
    "\n",
    "while True:\n",
    "    ret, frame = cap.read()\n",
    "    if not ret:\n",
    "        print(\"Failed to grab frame\")\n",
    "        break\n",
    "    \n",
    "    # Detect faces and bodies\n",
    "    faces = detector.detect_faces(frame)\n",
    "    bodies = detector.detect_bodies(frame)\n",
    "    \n",
    "    # Draw detections\n",
    "    frame_with_detections = detector.draw_detections(frame, faces, bodies)\n",
    "    \n",
    "    # Display results\n",
    "    cv2.imshow('MediaPipe Face and Body Detection', frame_with_detections)\n",
    "    \n",
    "    # Break on 'q' key\n",
    "    if cv2.waitKey(1) & 0xFF == ord('q'):\n",
    "        break\n",
    "\n",
    "# Release resources\n",
    "cap.release()\n",
    "cv2.destroyAllWindows()\n"
   ]
  }
 ],
 "metadata": {
  "kernelspec": {
   "display_name": "myenv",
   "language": "python",
   "name": "python3"
  },
  "language_info": {
   "codemirror_mode": {
    "name": "ipython",
    "version": 3
   },
   "file_extension": ".py",
   "mimetype": "text/x-python",
   "name": "python",
   "nbconvert_exporter": "python",
   "pygments_lexer": "ipython3",
   "version": "3.10.18"
  }
 },
 "nbformat": 4,
 "nbformat_minor": 5
}
